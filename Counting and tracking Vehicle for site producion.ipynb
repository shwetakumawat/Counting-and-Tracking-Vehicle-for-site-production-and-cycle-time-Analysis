{
 "cells": [
  {
   "cell_type": "code",
   "execution_count": 1,
   "id": "736975e4",
   "metadata": {},
   "outputs": [],
   "source": [
    "import cv2\n",
    "import numpy as np\n",
    "from time import sleep\n"
   ]
  },
  {
   "cell_type": "code",
   "execution_count": 2,
   "id": "2deff49e",
   "metadata": {},
   "outputs": [],
   "source": [
    "width_min=80     #MIN WIDHT\n",
    "height_min=80    #min height\n",
    "\n",
    "offset=6   \n",
    "\n",
    "pos_line=550    #LINE POSITION\n",
    "\n",
    "delay= 60        # VIDEO FPS\n",
    "\n",
    "detect = []\n",
    "cars= 0           # NO of CARS\n"
   ]
  },
  {
   "cell_type": "code",
   "execution_count": 3,
   "id": "9ed20e2c",
   "metadata": {},
   "outputs": [],
   "source": [
    "\n",
    "\t\n",
    "def takes_center(x, y, w, h):          # FRAME CENTER\n",
    "    x1 = int(w / 2)\n",
    "    y1 = int(h / 2)\n",
    "    cx = x + x1\n",
    "    cy = y + y1\n",
    "    return cx,cy\n",
    "\n",
    "cap = cv2.VideoCapture('video.mp4')               #Importing Video\n",
    "subraction = cv2.bgsegm.createBackgroundSubtractorMOG()                 #Subraction Creation\n"
   ]
  },
  {
   "cell_type": "code",
   "execution_count": null,
   "id": "0bd51576",
   "metadata": {},
   "outputs": [
    {
     "name": "stdout",
     "output_type": "stream",
     "text": [
      "car is detected : 1\n",
      "car is detected : 2\n",
      "car is detected : 3\n",
      "car is detected : 4\n",
      "car is detected : 5\n",
      "car is detected : 6\n"
     ]
    }
   ],
   "source": [
    "while True:\n",
    "    ret , frame1 = cap.read()             # read frames from video\n",
    "    temp = float(1/delay)                 \n",
    "    sleep(temp) \n",
    "    grey = cv2.cvtColor(frame1,cv2.COLOR_BGR2GRAY)          # converts frame to GREY Scale\n",
    "    blur = cv2.GaussianBlur(grey,(3,3),5)                   # converts gaussian blur\n",
    "    img_sub = subraction.apply(blur)                        \n",
    "    dilate = cv2.dilate(img_sub,np.ones((5,5)))             #apply morphological filter to image\n",
    "    kernel = cv2.getStructuringElement(cv2.MORPH_ELLIPSE, (5, 5))        #Ellipse morphing image\n",
    "    detected = cv2.morphologyEx (dilate, cv2. MORPH_CLOSE , kernel)\n",
    "    detected = cv2.morphologyEx (detected, cv2. MORPH_CLOSE , kernel)\n",
    "    contour,h=cv2.findContours(detected,cv2.RETR_TREE,cv2.CHAIN_APPROX_SIMPLE)         #find Contours in frame\n",
    "    \n",
    "    cv2.line(frame1, (25, pos_line), (1200, pos_line), (255,127,0), 3)           #draw lines on the frames \n",
    "    for(i,c) in enumerate(contour):\n",
    "        (x,y,w,h) = cv2.boundingRect(c)          #used to draw rect on the frame ROI\n",
    "        valid_contour = (w >= width_min) and (h >= height_min)     #rect valid only if it is in the frame\n",
    "        if not valid_contour:                   #Not valid if it is outside\n",
    "            continue\n",
    "\n",
    "        cv2.rectangle(frame1,(x,y),(x+w,y+h),(0,255,0),2)        #drawing rectangle on ROI \n",
    "        centre = takes_center(x, y, w, h)                       #while crossing center\n",
    "        detect.append(centre)                                   #Appending detect list\n",
    "        cv2.circle(frame1, centre, 4, (0, 0,255), -1)\n",
    "\n",
    "        for (x,y) in detect:                                    #if cars crossing the line \n",
    "            if y<(pos_line+offset) and y>(pos_line-offset):\n",
    "                cars+=1                                             # add Count\n",
    "                cv2.line(frame1, (25, pos_line), (1200, pos_line), (0,127,255), 3)  #draw line in frame\n",
    "                detect.remove((x,y))                        # remove rect after crossing the line\n",
    "                print(\"car is detected : \"+str(cars))        \n",
    "       \n",
    "    cv2.putText(frame1, \"VEHICLE COUNT : \"+str(cars), (450, 70), cv2.FONT_HERSHEY_SIMPLEX, 2, (0, 0, 255),5)\n",
    "    cv2.imshow(\"Video Original\" , frame1)               #DIsplay Video and COUNT \n",
    "    cv2.imshow(\"Detected\",detected)\n",
    "\n",
    "    if cv2.waitKey(1) == 27:\n",
    "        break\n",
    "    \n",
    "cv2.destroyAllWindows()\n",
    "cap.release()"
   ]
  },
  {
   "cell_type": "code",
   "execution_count": null,
   "id": "ce079c08",
   "metadata": {},
   "outputs": [],
   "source": []
  }
 ],
 "metadata": {
  "kernelspec": {
   "display_name": "Python 3 (ipykernel)",
   "language": "python",
   "name": "python3"
  },
  "language_info": {
   "codemirror_mode": {
    "name": "ipython",
    "version": 3
   },
   "file_extension": ".py",
   "mimetype": "text/x-python",
   "name": "python",
   "nbconvert_exporter": "python",
   "pygments_lexer": "ipython3",
   "version": "3.8.11"
  }
 },
 "nbformat": 4,
 "nbformat_minor": 5
}
